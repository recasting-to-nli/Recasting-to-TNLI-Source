{
 "cells": [
  {
   "cell_type": "code",
   "execution_count": 24,
   "id": "7d59d3f7",
   "metadata": {},
   "outputs": [],
   "source": [
    "wk = '../final_datasets/WikiTableQuestions/wikiTabData_with_titles.jsonl'\n",
    "para1 = '../final_datasets/WikiTableQuestions/wikiTablesQA_paraphrase.csv'\n",
    "para2 = '../final_datasets/WikiTableQuestions/wikiTablesQA_paraphrased_contra.csv'"
   ]
  },
  {
   "cell_type": "code",
   "execution_count": 25,
   "id": "572c8ae3",
   "metadata": {},
   "outputs": [],
   "source": [
    "para = {}\n",
    "import csv,random\n",
    "with open(para1) as csvfile:\n",
    "    reader = csv.reader(csvfile)\n",
    "    for row in reader:\n",
    "        row2 = []\n",
    "        for i in row[1:]:\n",
    "            if i.lower() != row[0].lower(): row2.append(i)\n",
    "        if len(row2) > 0 : para[row[0]] = random.choice(row2)\n",
    "with open(para2) as csvfile:\n",
    "    reader = csv.reader(csvfile)\n",
    "    for row in reader:\n",
    "        row2 = []\n",
    "        for i in row[1:]:\n",
    "            if i.lower() != row[0].lower(): row2.append(i)\n",
    "        if len(row2) > 0 : para[row[0]] = random.choice(row2)"
   ]
  },
  {
   "cell_type": "code",
   "execution_count": 26,
   "id": "b8ee8304",
   "metadata": {},
   "outputs": [
    {
     "data": {
      "text/plain": [
       "54029"
      ]
     },
     "execution_count": 26,
     "metadata": {},
     "output_type": "execute_result"
    }
   ],
   "source": [
    "len(para)"
   ]
  },
  {
   "cell_type": "code",
   "execution_count": 27,
   "id": "93fc4872",
   "metadata": {},
   "outputs": [
    {
     "name": "stdout",
     "output_type": "stream",
     "text": [
      "22004\n"
     ]
    }
   ],
   "source": [
    "import json,shutil\n",
    "\n",
    "\n",
    "train_data = {}\n",
    "test_data = {}\n",
    "\n",
    "c = 0\n",
    "f = open(wk,'r')\n",
    "for line in f:\n",
    "    c+=1\n",
    "    d = json.loads(line)\n",
    "    tbl_path = '../WikiTableQuestions/' + d['table_id']\n",
    "    \n",
    "    stmt = []\n",
    "    key =  str(c) + \".csv\"\n",
    "    \n",
    "    if d['entailment'] in para.keys(): stmt.append(para[d['entailment']])\n",
    "    else: stmt.append(d['entailment'])\n",
    "    \n",
    "    for s in d['contradictions']:\n",
    "        if s in para.keys(): stmt.append(para[s])\n",
    "        else: stmt.append(s)\n",
    "        \n",
    "    if c%10==0:\n",
    "        wk = '../final_datasets/WikiTableQuestions/qa/test_split/test_csv/' + str(c) + \".csv\"\n",
    "        shutil.copy(tbl_path, wk)\n",
    "        test_data[key] = [\n",
    "            stmt,\n",
    "            [1] + [0]*(len(stmt)-1),\n",
    "            d['title']\n",
    "        ]\n",
    "    else:\n",
    "        wk = '../final_datasets/WikiTableQuestions/qa/train_split/train_csv/' + str(c) + \".csv\"\n",
    "        shutil.copy(tbl_path, wk)\n",
    "        train_data[key] = [\n",
    "            stmt,\n",
    "            [1] + [0]*(len(stmt)-1),\n",
    "            d['title']\n",
    "        ]\n",
    "print(c)"
   ]
  },
  {
   "cell_type": "code",
   "execution_count": 28,
   "id": "f34a2d7d",
   "metadata": {},
   "outputs": [
    {
     "data": {
      "text/plain": [
       "608778"
      ]
     },
     "execution_count": 28,
     "metadata": {},
     "output_type": "execute_result"
    }
   ],
   "source": [
    "tr = '../final_datasets/WikiTableQuestions/qa/train_split/train_data.json'\n",
    "ts = '../final_datasets/WikiTableQuestions/qa/test_split/test_data.json'\n",
    "st1 = json.dumps(train_data)\n",
    "f = open(tr,'w')\n",
    "f.write(st1)\n",
    "st2 = json.dumps(test_data)\n",
    "e = open(ts,'w')\n",
    "e.write(st2)"
   ]
  },
  {
   "cell_type": "code",
   "execution_count": 40,
   "id": "c49f08db",
   "metadata": {},
   "outputs": [],
   "source": [
    "tr = '../final_datasets/fetaqa/train_augmented.jsonl'\n",
    "ts = '../final_datasets/fetaqa/test_augmented.jsonl'\n",
    "dv = '../final_datasets/fetaqa/dev_augmented.jsonl'\n",
    "\n",
    "\n",
    "para1 = '../final_datasets/fetaqa/fetaqa_train_paraphrase_contra.csv'\n",
    "para2 = '../final_datasets/fetaqa/fetaqa_test_paraphrase_contra.csv'\n",
    "para3 = '../final_datasets/fetaqa/fetaqa_dev_paraphrase_contra.csv'\n"
   ]
  },
  {
   "cell_type": "code",
   "execution_count": 32,
   "id": "d6be307a",
   "metadata": {},
   "outputs": [],
   "source": [
    "para = {}\n",
    "import csv,random\n",
    "with open(para1) as csvfile:\n",
    "    reader = csv.reader(csvfile)\n",
    "    for row in reader:\n",
    "        row2 = []\n",
    "        for i in row[1:]:\n",
    "            if i.lower() != row[0].lower(): row2.append(i)\n",
    "        if len(row2) > 0 : para[row[0]] = random.choice(row2)\n",
    "with open(para2) as csvfile:\n",
    "    reader = csv.reader(csvfile)\n",
    "    for row in reader:\n",
    "        row2 = []\n",
    "        for i in row[1:]:\n",
    "            if i.lower() != row[0].lower(): row2.append(i)\n",
    "        if len(row2) > 0 : para[row[0]] = random.choice(row2)\n",
    "with open(para3) as csvfile:\n",
    "    reader = csv.reader(csvfile)\n",
    "    for row in reader:\n",
    "        row2 = []\n",
    "        for i in row[1:]:\n",
    "            if i.lower() != row[0].lower(): row2.append(i)\n",
    "        if len(row2) > 0 : para[row[0]] = random.choice(row2)"
   ]
  },
  {
   "cell_type": "code",
   "execution_count": 48,
   "id": "82a1f10f",
   "metadata": {},
   "outputs": [
    {
     "name": "stdout",
     "output_type": "stream",
     "text": [
      "22004\n",
      "2200\n",
      "19804\n"
     ]
    }
   ],
   "source": [
    "print(c)\n",
    "print(len(test_data))\n",
    "print(len(train_data))"
   ]
  },
  {
   "cell_type": "code",
   "execution_count": 50,
   "id": "8f9d7313",
   "metadata": {},
   "outputs": [],
   "source": [
    "c = 22004\n",
    "import csv\n",
    "f = open('../final_datasets/fetaqa/test_augmented.jsonl','r')\n",
    "for line in f:\n",
    "    c+=1\n",
    "    d = json.loads(line)\n",
    "    key = str(c) + \".csv\" \n",
    "    stmt = []\n",
    "    if d['answer'] in para.keys(): stmt.append(para[d['answer']])\n",
    "    else: stmt.append(d['answer'])\n",
    "    \n",
    "    for s in d['contradictions']:\n",
    "        if s in para.keys(): stmt.append(para[s])\n",
    "        else: stmt.append(s)\n",
    "    \n",
    "    test_data[key] = [\n",
    "        stmt,\n",
    "        [1] + [0]*len(d['contradictions']),\n",
    "        d['table_page_title'] + \" \" + d['table_section_title']\n",
    "    ]\n",
    "    \n",
    "    with open('../final_datasets/WikiTableQuestions/qa/test_split/test_csv/'+key, 'w') as csvfile:\n",
    "        spamwriter = csv.writer(csvfile)\n",
    "        spamwriter.writerows(d['table_array'])\n",
    "\n",
    "    "
   ]
  },
  {
   "cell_type": "code",
   "execution_count": 51,
   "id": "c296ec3d",
   "metadata": {},
   "outputs": [
    {
     "data": {
      "text/plain": [
       "24007"
      ]
     },
     "execution_count": 51,
     "metadata": {},
     "output_type": "execute_result"
    }
   ],
   "source": [
    "c"
   ]
  },
  {
   "cell_type": "code",
   "execution_count": 52,
   "id": "a65c9f6d",
   "metadata": {},
   "outputs": [],
   "source": [
    "import csv\n",
    "f = open('../final_datasets/fetaqa/train_augmented.jsonl','r')\n",
    "for line in f:\n",
    "    c+=1\n",
    "    d = json.loads(line)\n",
    "    key = str(c) + \".csv\" \n",
    "    stmt = []\n",
    "    if d['answer'] in para.keys(): stmt.append(para[d['answer']])\n",
    "    else: stmt.append(d['answer'])\n",
    "    \n",
    "    for s in d['contradictions']:\n",
    "        if s in para.keys(): stmt.append(para[s])\n",
    "        else: stmt.append(s)\n",
    "    \n",
    "    train_data[key] = [\n",
    "        stmt,\n",
    "        [1] + [0]*len(d['contradictions']),\n",
    "        d['table_page_title'] + \" \" + d['table_section_title']\n",
    "    ]\n",
    "    \n",
    "    with open('../final_datasets/WikiTableQuestions/qa/train_split/train_csv/'+key, 'w') as csvfile:\n",
    "        spamwriter = csv.writer(csvfile)\n",
    "        spamwriter.writerows(d['table_array'])"
   ]
  },
  {
   "cell_type": "code",
   "execution_count": 54,
   "id": "d4e4f077",
   "metadata": {},
   "outputs": [],
   "source": [
    "import csv\n",
    "f = open('../final_datasets/fetaqa/dev_augmented.jsonl','r')\n",
    "for line in f:\n",
    "    c+=1\n",
    "    d = json.loads(line)\n",
    "    key = str(c) + \".csv\" \n",
    "    stmt = []\n",
    "    if d['answer'] in para.keys(): stmt.append(para[d['answer']])\n",
    "    else: stmt.append(d['answer'])\n",
    "    \n",
    "    for s in d['contradictions']:\n",
    "        if s in para.keys(): stmt.append(para[s])\n",
    "        else: stmt.append(s)\n",
    "    \n",
    "    train_data[key] = [\n",
    "        stmt,\n",
    "        [1] + [0]*len(d['contradictions']),\n",
    "        d['table_page_title'] + \" \" + d['table_section_title']\n",
    "    ]\n",
    "    \n",
    "    with open('../final_datasets/WikiTableQuestions/qa/train_split/train_csv/'+key, 'w') as csvfile:\n",
    "        spamwriter = csv.writer(csvfile)\n",
    "        spamwriter.writerows(d['table_array'])"
   ]
  },
  {
   "cell_type": "code",
   "execution_count": 55,
   "id": "327d9355",
   "metadata": {},
   "outputs": [
    {
     "data": {
      "text/plain": [
       "28131"
      ]
     },
     "execution_count": 55,
     "metadata": {},
     "output_type": "execute_result"
    }
   ],
   "source": [
    "len(train_data)"
   ]
  },
  {
   "cell_type": "code",
   "execution_count": 56,
   "id": "e7b3d728",
   "metadata": {},
   "outputs": [
    {
     "data": {
      "text/plain": [
       "4203"
      ]
     },
     "execution_count": 56,
     "metadata": {},
     "output_type": "execute_result"
    }
   ],
   "source": [
    "len(test_data)"
   ]
  },
  {
   "cell_type": "code",
   "execution_count": 57,
   "id": "67f53bb4",
   "metadata": {},
   "outputs": [
    {
     "data": {
      "text/plain": [
       "32334"
      ]
     },
     "execution_count": 57,
     "metadata": {},
     "output_type": "execute_result"
    }
   ],
   "source": [
    "c"
   ]
  },
  {
   "cell_type": "code",
   "execution_count": 58,
   "id": "da179b42",
   "metadata": {},
   "outputs": [
    {
     "data": {
      "text/plain": [
       "1440289"
      ]
     },
     "execution_count": 58,
     "metadata": {},
     "output_type": "execute_result"
    }
   ],
   "source": [
    "tr = '../final_datasets/WikiTableQuestions/qa/train_split/train_data.json'\n",
    "ts = '../final_datasets/WikiTableQuestions/qa/test_split/test_data.json'\n",
    "st1 = json.dumps(train_data)\n",
    "f = open(tr,'w')\n",
    "f.write(st1)\n",
    "st2 = json.dumps(test_data)\n",
    "e = open(ts,'w')\n",
    "e.write(st2)"
   ]
  },
  {
   "cell_type": "code",
   "execution_count": null,
   "id": "6dec57bb",
   "metadata": {},
   "outputs": [],
   "source": []
  }
 ],
 "metadata": {
  "kernelspec": {
   "display_name": "Python 3 (ipykernel)",
   "language": "python",
   "name": "python3"
  },
  "language_info": {
   "codemirror_mode": {
    "name": "ipython",
    "version": 3
   },
   "file_extension": ".py",
   "mimetype": "text/x-python",
   "name": "python",
   "nbconvert_exporter": "python",
   "pygments_lexer": "ipython3",
   "version": "3.9.13"
  }
 },
 "nbformat": 4,
 "nbformat_minor": 5
}
