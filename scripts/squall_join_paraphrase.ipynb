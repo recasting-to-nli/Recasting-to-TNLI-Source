{
 "cells": [
  {
   "cell_type": "code",
   "execution_count": 22,
   "id": "7d59d3f7",
   "metadata": {},
   "outputs": [],
   "source": [
    "sq_train = open('../final_datasets/wikisql/train_split/train_data.json','r')\n",
    "sq_test = open('../final_datasets/wikisql/test_split/test_data.json','r')\n",
    "para1 = '../final_datasets/wikisql/paraphrase/wikisql_full.csv'\n",
    "para2 = '../final_datasets/wikisql/paraphrase/wiki.csv'\n"
   ]
  },
  {
   "cell_type": "code",
   "execution_count": 23,
   "id": "572c8ae3",
   "metadata": {},
   "outputs": [],
   "source": [
    "para = {}\n",
    "import csv,random\n",
    "\n",
    "row_count = 0\n",
    "with open(para1) as csvfile:\n",
    "    reader = csv.reader(csvfile)\n",
    "    for row in reader:\n",
    "        row_count += 1\n",
    "        row2 = []\n",
    "        for i in row[1:]:\n",
    "            if i.lower() != row[0].lower(): row2.append(i)\n",
    "        if len(row2) > 0 : para[row[0]] = random.choice(row2)\n",
    "with open(para2) as csvfile:\n",
    "    reader = csv.reader(csvfile)\n",
    "    for row in reader:\n",
    "        row2 = []\n",
    "        for i in row[1:]:\n",
    "            if i.lower() != row[0].lower(): row2.append(i)\n",
    "        if len(row2) > 0 : para[row[0]] = random.choice(row2)"
   ]
  },
  {
   "cell_type": "code",
   "execution_count": 24,
   "id": "b8ee8304",
   "metadata": {},
   "outputs": [
    {
     "name": "stdout",
     "output_type": "stream",
     "text": [
      "445070 314448\n"
     ]
    }
   ],
   "source": [
    "print(len(para), row_count)"
   ]
  },
  {
   "cell_type": "code",
   "execution_count": 25,
   "id": "93fc4872",
   "metadata": {},
   "outputs": [],
   "source": [
    "import json,shutil\n",
    "\n",
    "\n",
    "train_data = json.load(sq_train)\n",
    "test_data = json.load(sq_test)\n",
    "\n",
    "train_new = {}\n",
    "test_new = {}\n",
    "\n",
    "for key,value in train_data.items():\n",
    "    tags = value[1]\n",
    "    title = value[2]\n",
    "    stmts = value[0]\n",
    "    new_stmts = []\n",
    "    for stmt in stmts:\n",
    "        if stmt in para.keys(): new_stmts.append(para[stmt])\n",
    "        else: new_stmts.append(stmt)\n",
    "    train_new[key] = [ new_stmts, tags, title ]\n",
    "\n",
    "for key,value in test_data.items():\n",
    "    tags = value[1]\n",
    "    title = value[2]\n",
    "    stmts = value[0]\n",
    "    new_stmts = []\n",
    "    for stmt in stmts:\n",
    "        if stmt in para.keys(): new_stmts.append(para[stmt])\n",
    "        else: new_stmts.append(stmt)\n",
    "    test_new[key] = [ new_stmts, tags, title ]\n",
    "\n",
    "\n"
   ]
  },
  {
   "cell_type": "code",
   "execution_count": 26,
   "metadata": {},
   "outputs": [
    {
     "name": "stdout",
     "output_type": "stream",
     "text": [
      "68369 12038 68369 12038\n"
     ]
    }
   ],
   "source": [
    "print(len(train_data), len(test_data), len(train_new), len(test_new))"
   ]
  },
  {
   "cell_type": "code",
   "execution_count": 29,
   "metadata": {},
   "outputs": [
    {
     "name": "stdout",
     "output_type": "stream",
     "text": [
      "583660\n",
      "101753\n"
     ]
    }
   ],
   "source": [
    "c = 0\n",
    "for value in train_new.values(): \n",
    "    c += len(value[0])\n",
    "print(c)\n",
    "c = 0\n",
    "for value in test_new.values(): \n",
    "    c += len(value[0])\n",
    "print(c)"
   ]
  },
  {
   "cell_type": "code",
   "execution_count": 31,
   "metadata": {},
   "outputs": [
    {
     "name": "stdout",
     "output_type": "stream",
     "text": [
      "['The player who played for Butler Cc (ks) plays Guard Forward.', 'The player who played for Butler cc (ks) plays forward center.', 'The player who plays for Butler cc (ks) plays guard.']\n"
     ]
    }
   ],
   "source": [
    "for value in train_new.values(): \n",
    "    print(value[0])\n",
    "    break"
   ]
  },
  {
   "cell_type": "code",
   "execution_count": 32,
   "id": "f34a2d7d",
   "metadata": {},
   "outputs": [
    {
     "data": {
      "text/plain": [
       "8251333"
      ]
     },
     "execution_count": 32,
     "metadata": {},
     "output_type": "execute_result"
    }
   ],
   "source": [
    "tr = '../final_datasets/wikisql/train_split/train_data_paraphrased.json'\n",
    "ts = '../final_datasets/wikisql/test_split/test_data_paraphrased.json'\n",
    "st1 = json.dumps(train_new)\n",
    "f = open(tr,'w')\n",
    "f.write(st1)\n",
    "st2 = json.dumps(test_new)\n",
    "e = open(ts,'w')\n",
    "e.write(st2)"
   ]
  },
  {
   "cell_type": "code",
   "execution_count": 40,
   "id": "c49f08db",
   "metadata": {},
   "outputs": [],
   "source": [
    "tr = '../final_datasets/fetaqa/train_augmented.jsonl'\n",
    "ts = '../final_datasets/fetaqa/test_augmented.jsonl'\n",
    "dv = '../final_datasets/fetaqa/dev_augmented.jsonl'\n",
    "\n",
    "\n",
    "para1 = '../final_datasets/fetaqa/fetaqa_train_paraphrase_contra.csv'\n",
    "para2 = '../final_datasets/fetaqa/fetaqa_test_paraphrase_contra.csv'\n",
    "para3 = '../final_datasets/fetaqa/fetaqa_dev_paraphrase_contra.csv'\n"
   ]
  },
  {
   "cell_type": "code",
   "execution_count": 32,
   "id": "d6be307a",
   "metadata": {},
   "outputs": [],
   "source": [
    "para = {}\n",
    "import csv,random\n",
    "with open(para1) as csvfile:\n",
    "    reader = csv.reader(csvfile)\n",
    "    for row in reader:\n",
    "        row2 = []\n",
    "        for i in row[1:]:\n",
    "            if i.lower() != row[0].lower(): row2.append(i)\n",
    "        if len(row2) > 0 : para[row[0]] = random.choice(row2)\n",
    "with open(para2) as csvfile:\n",
    "    reader = csv.reader(csvfile)\n",
    "    for row in reader:\n",
    "        row2 = []\n",
    "        for i in row[1:]:\n",
    "            if i.lower() != row[0].lower(): row2.append(i)\n",
    "        if len(row2) > 0 : para[row[0]] = random.choice(row2)\n",
    "with open(para3) as csvfile:\n",
    "    reader = csv.reader(csvfile)\n",
    "    for row in reader:\n",
    "        row2 = []\n",
    "        for i in row[1:]:\n",
    "            if i.lower() != row[0].lower(): row2.append(i)\n",
    "        if len(row2) > 0 : para[row[0]] = random.choice(row2)"
   ]
  },
  {
   "cell_type": "code",
   "execution_count": 48,
   "id": "82a1f10f",
   "metadata": {},
   "outputs": [
    {
     "name": "stdout",
     "output_type": "stream",
     "text": [
      "22004\n",
      "2200\n",
      "19804\n"
     ]
    }
   ],
   "source": [
    "print(c)\n",
    "print(len(test_data))\n",
    "print(len(train_data))"
   ]
  },
  {
   "cell_type": "code",
   "execution_count": 50,
   "id": "8f9d7313",
   "metadata": {},
   "outputs": [],
   "source": [
    "c = 22004\n",
    "import csv\n",
    "f = open('../final_datasets/fetaqa/test_augmented.jsonl','r')\n",
    "for line in f:\n",
    "    c+=1\n",
    "    d = json.loads(line)\n",
    "    key = str(c) + \".csv\" \n",
    "    stmt = []\n",
    "    if d['answer'] in para.keys(): stmt.append(para[d['answer']])\n",
    "    else: stmt.append(d['answer'])\n",
    "    \n",
    "    for s in d['contradictions']:\n",
    "        if s in para.keys(): stmt.append(para[s])\n",
    "        else: stmt.append(s)\n",
    "    \n",
    "    test_data[key] = [\n",
    "        stmt,\n",
    "        [1] + [0]*len(d['contradictions']),\n",
    "        d['table_page_title'] + \" \" + d['table_section_title']\n",
    "    ]\n",
    "    \n",
    "    with open('../final_datasets/WikiTableQuestions/qa/test_split/test_csv/'+key, 'w') as csvfile:\n",
    "        spamwriter = csv.writer(csvfile)\n",
    "        spamwriter.writerows(d['table_array'])\n",
    "\n",
    "    "
   ]
  },
  {
   "cell_type": "code",
   "execution_count": 51,
   "id": "c296ec3d",
   "metadata": {},
   "outputs": [
    {
     "data": {
      "text/plain": [
       "24007"
      ]
     },
     "execution_count": 51,
     "metadata": {},
     "output_type": "execute_result"
    }
   ],
   "source": [
    "c"
   ]
  },
  {
   "cell_type": "code",
   "execution_count": 52,
   "id": "a65c9f6d",
   "metadata": {},
   "outputs": [],
   "source": [
    "import csv\n",
    "f = open('../final_datasets/fetaqa/train_augmented.jsonl','r')\n",
    "for line in f:\n",
    "    c+=1\n",
    "    d = json.loads(line)\n",
    "    key = str(c) + \".csv\" \n",
    "    stmt = []\n",
    "    if d['answer'] in para.keys(): stmt.append(para[d['answer']])\n",
    "    else: stmt.append(d['answer'])\n",
    "    \n",
    "    for s in d['contradictions']:\n",
    "        if s in para.keys(): stmt.append(para[s])\n",
    "        else: stmt.append(s)\n",
    "    \n",
    "    train_data[key] = [\n",
    "        stmt,\n",
    "        [1] + [0]*len(d['contradictions']),\n",
    "        d['table_page_title'] + \" \" + d['table_section_title']\n",
    "    ]\n",
    "    \n",
    "    with open('../final_datasets/WikiTableQuestions/qa/train_split/train_csv/'+key, 'w') as csvfile:\n",
    "        spamwriter = csv.writer(csvfile)\n",
    "        spamwriter.writerows(d['table_array'])"
   ]
  },
  {
   "cell_type": "code",
   "execution_count": 54,
   "id": "d4e4f077",
   "metadata": {},
   "outputs": [],
   "source": [
    "import csv\n",
    "f = open('../final_datasets/fetaqa/dev_augmented.jsonl','r')\n",
    "for line in f:\n",
    "    c+=1\n",
    "    d = json.loads(line)\n",
    "    key = str(c) + \".csv\" \n",
    "    stmt = []\n",
    "    if d['answer'] in para.keys(): stmt.append(para[d['answer']])\n",
    "    else: stmt.append(d['answer'])\n",
    "    \n",
    "    for s in d['contradictions']:\n",
    "        if s in para.keys(): stmt.append(para[s])\n",
    "        else: stmt.append(s)\n",
    "    \n",
    "    train_data[key] = [\n",
    "        stmt,\n",
    "        [1] + [0]*len(d['contradictions']),\n",
    "        d['table_page_title'] + \" \" + d['table_section_title']\n",
    "    ]\n",
    "    \n",
    "    with open('../final_datasets/WikiTableQuestions/qa/train_split/train_csv/'+key, 'w') as csvfile:\n",
    "        spamwriter = csv.writer(csvfile)\n",
    "        spamwriter.writerows(d['table_array'])"
   ]
  },
  {
   "cell_type": "code",
   "execution_count": 55,
   "id": "327d9355",
   "metadata": {},
   "outputs": [
    {
     "data": {
      "text/plain": [
       "28131"
      ]
     },
     "execution_count": 55,
     "metadata": {},
     "output_type": "execute_result"
    }
   ],
   "source": [
    "len(train_data)"
   ]
  },
  {
   "cell_type": "code",
   "execution_count": 56,
   "id": "e7b3d728",
   "metadata": {},
   "outputs": [
    {
     "data": {
      "text/plain": [
       "4203"
      ]
     },
     "execution_count": 56,
     "metadata": {},
     "output_type": "execute_result"
    }
   ],
   "source": [
    "len(test_data)"
   ]
  },
  {
   "cell_type": "code",
   "execution_count": 57,
   "id": "67f53bb4",
   "metadata": {},
   "outputs": [
    {
     "data": {
      "text/plain": [
       "32334"
      ]
     },
     "execution_count": 57,
     "metadata": {},
     "output_type": "execute_result"
    }
   ],
   "source": [
    "c"
   ]
  },
  {
   "cell_type": "code",
   "execution_count": 58,
   "id": "da179b42",
   "metadata": {},
   "outputs": [
    {
     "data": {
      "text/plain": [
       "1440289"
      ]
     },
     "execution_count": 58,
     "metadata": {},
     "output_type": "execute_result"
    }
   ],
   "source": [
    "tr = '../final_datasets/WikiTableQuestions/qa/train_split/train_data.json'\n",
    "ts = '../final_datasets/WikiTableQuestions/qa/test_split/test_data.json'\n",
    "st1 = json.dumps(train_data)\n",
    "f = open(tr,'w')\n",
    "f.write(st1)\n",
    "st2 = json.dumps(test_data)\n",
    "e = open(ts,'w')\n",
    "e.write(st2)"
   ]
  },
  {
   "cell_type": "code",
   "execution_count": null,
   "id": "6dec57bb",
   "metadata": {},
   "outputs": [],
   "source": []
  }
 ],
 "metadata": {
  "interpreter": {
   "hash": "b0fa6594d8f4cbf19f97940f81e996739fb7646882a419484c72d19e05852a7e"
  },
  "kernelspec": {
   "display_name": "Python 3.9.13 64-bit",
   "name": "python3"
  },
  "language_info": {
   "codemirror_mode": {
    "name": "ipython",
    "version": 3
   },
   "file_extension": ".py",
   "mimetype": "text/x-python",
   "name": "python",
   "nbconvert_exporter": "python",
   "pygments_lexer": "ipython3",
   "version": "3.9.13"
  }
 },
 "nbformat": 4,
 "nbformat_minor": 5
}
